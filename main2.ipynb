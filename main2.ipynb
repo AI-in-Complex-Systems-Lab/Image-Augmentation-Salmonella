{
 "cells": [
  {
   "cell_type": "code",
   "execution_count": 5,
   "metadata": {},
   "outputs": [],
   "source": [
    "from PIL import Image\n",
    "import numpy as np\n",
    "import os\n",
    "import matplotlib.pyplot as plt\n"
   ]
  },
  {
   "cell_type": "code",
   "execution_count": 27,
   "metadata": {},
   "outputs": [
    {
     "name": "stdout",
     "output_type": "stream",
     "text": [
      "Total patches extracted: 62\n"
     ]
    }
   ],
   "source": [
    "# Load the cropped image\n",
    "image = Image.open('/Users/mikaildemir/Desktop/Image-Augmentation-Salmonella/Array.tif')\n",
    "\n",
    "# Define the new patch size based on the updated image dimensions\n",
    "patch_size = (55, 53)  # Width x Height\n",
    "\n",
    "# Convert the image to a numpy array for easy manipulation\n",
    "image_array = np.array(image)\n",
    "\n",
    "# Define the number of rows and columns in the grid\n",
    "rows = 7  # 7 rows\n",
    "cols = 10  # 10 columns\n",
    "\n",
    "# Initialize a list to store all patches\n",
    "patches = []\n",
    "\n",
    "# Loop through each row and column to extract all patches\n",
    "for row in range(rows):\n",
    "    for col in range(cols):\n",
    "        # Calculate the coordinates for the top-left corner of each patch\n",
    "        x = col * patch_size[0]\n",
    "        y = row * patch_size[1]\n",
    "        \n",
    "        # Extract the patch\n",
    "        patch = image_array[y:y + patch_size[1], x:x + patch_size[0]]\n",
    "        patches.append(patch)\n",
    "patches = patches[:61] + [patches[-1]]\n",
    "# The list `patches` now contains all extracted patches from the image\n",
    "print(f\"Total patches extracted: {len(patches)}\")\n"
   ]
  },
  {
   "cell_type": "code",
   "execution_count": 112,
   "metadata": {},
   "outputs": [],
   "source": [
    "# Your list of concentration levels (62 values)\n",
    "concentration_levels = [\n",
    "    0, 0, 20, 20, 0, 0, 20, 10, 0, 10, 10, 0, 50, 0, 0, 50, 0, 50, 20, 0, \n",
    "    0, 0, 0, 20, 0, 10, 10, 50, 0, 0, 20, 50, 10, 0, 10, 0, 20, 0, 0, 20, \n",
    "    0, 0, 10, 0, 0, 50, 50, 0, 10, 50, 50, 0, 50, 20, 0, 10, 0, 0, 20, 0, \n",
    "    0, 0\n",
    "]\n",
    "\n",
    "# Make sure the number of patches matches the number of concentration levels\n",
    "assert len(patches) == len(concentration_levels), \"Mismatch between patches and concentration levels.\"\n",
    "\n",
    "# Create a list of tuples where each tuple contains a patch and its corresponding concentration level\n",
    "labeled_patches = [(patch, concentration_levels[i]) for i, patch in enumerate(patches)]\n",
    "\n"
   ]
  },
  {
   "cell_type": "code",
   "execution_count": 111,
   "metadata": {},
   "outputs": [
    {
     "name": "stdout",
     "output_type": "stream",
     "text": [
      "All images saved successfully.\n"
     ]
    }
   ],
   "source": [
    "import albumentations as A\n",
    "import cv2\n",
    "import os\n",
    "\n",
    "# Define aggressive RGB Shift and Channel Shuffle augmentations\n",
    "rgb_shift_augmentation = A.Compose([\n",
    "    A.RGBShift(r_shift_limit=100, g_shift_limit=100, b_shift_limit=100, p=1.0)\n",
    "])\n",
    "\n",
    "channel_shuffle_augmentation = A.Compose([\n",
    "    A.ChannelShuffle(p=1.0)\n",
    "])\n",
    "\n",
    "# Create directories if they don’t exist\n",
    "os.makedirs(\"original_patches\", exist_ok=True)\n",
    "os.makedirs(\"augmented_images\", exist_ok=True)\n",
    "\n",
    "# List to store augmented images along with their labels\n",
    "augmented_labeled_patches = []\n",
    "\n",
    "# Loop through all patches and generate augmented versions\n",
    "for idx, (patch, label) in enumerate(labeled_patches):\n",
    "    # Save original patch\n",
    "    original_path = f\"original_patches/patch_{idx}.png\"\n",
    "    cv2.imwrite(original_path, cv2.cvtColor(patch, cv2.COLOR_RGB2BGR))\n",
    "    \n",
    "    # Generate and save 4 augmented images for each patch\n",
    "    for aug_idx in range(1, 5):\n",
    "        if aug_idx <= 2:\n",
    "            # Apply RGB Shift for the first 2 augmentations\n",
    "            augmented_image = rgb_shift_augmentation(image=patch)['image']\n",
    "        else:\n",
    "            # Apply Channel Shuffle for the last 2 augmentations\n",
    "            augmented_image = channel_shuffle_augmentation(image=patch)['image']\n",
    "        \n",
    "        # Save the augmented image\n",
    "        augmented_path = f\"augmented_images/augmented_{idx}_{aug_idx}.png\"\n",
    "        cv2.imwrite(augmented_path, cv2.cvtColor(augmented_image, cv2.COLOR_RGB2BGR))\n",
    "        \n",
    "        # Append the augmented image and label to augmented_labeled_patches\n",
    "        augmented_labeled_patches.append((augmented_image, label))\n",
    "\n",
    "print(\"All images saved successfully.\")\n",
    "\n",
    "# Now, `augmented_labeled_patches` contains all original and augmented images with labels\n"
   ]
  }
 ],
 "metadata": {
  "kernelspec": {
   "display_name": "venv",
   "language": "python",
   "name": "python3"
  },
  "language_info": {
   "codemirror_mode": {
    "name": "ipython",
    "version": 3
   },
   "file_extension": ".py",
   "mimetype": "text/x-python",
   "name": "python",
   "nbconvert_exporter": "python",
   "pygments_lexer": "ipython3",
   "version": "3.9.6"
  }
 },
 "nbformat": 4,
 "nbformat_minor": 2
}
